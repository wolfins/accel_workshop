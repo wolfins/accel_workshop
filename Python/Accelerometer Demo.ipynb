{
 "cells": [
  {
   "cell_type": "code",
   "execution_count": 16,
   "id": "c37c801f",
   "metadata": {},
   "outputs": [],
   "source": [
    "from serial import Serial\n",
    "import hvplot.streamz\n",
    "from streamz.dataframe import DataFrame\n",
    "import pandas as pd\n",
    "from datetime import datetime as dt\n",
    "import matplotlib.pyplot as plt\n",
    "import numpy as np"
   ]
  },
  {
   "cell_type": "code",
   "execution_count": 2,
   "id": "f04f3633",
   "metadata": {},
   "outputs": [],
   "source": [
    "# https://hvplot.holoviz.org/user_guide/Streaming.html\n",
    "cols = ['t','x','y','z']\n",
    "df_example = pd.DataFrame(columns=cols)\n",
    "df = DataFrame(example=df_example)"
   ]
  },
  {
   "cell_type": "code",
   "execution_count": 3,
   "id": "bc31e55e",
   "metadata": {},
   "outputs": [],
   "source": [
    "#Connect the Arduino Nano 33 IoT to your computer.  \n",
    "port = Serial(port=\"/dev/cu.usbmodem14201\", baudrate=115200)\n",
    "port.flushInput()\n",
    "# Possible errors: \n",
    "# \"Resource busy\": close the serial window in the Arduino IDE and try again"
   ]
  },
  {
   "cell_type": "code",
   "execution_count": 4,
   "id": "da289829",
   "metadata": {},
   "outputs": [
    {
     "data": {},
     "metadata": {},
     "output_type": "display_data"
    },
    {
     "data": {
      "application/vnd.holoviews_exec.v0+json": "",
      "text/html": [
       "<div id='1002'>\n",
       "\n",
       "\n",
       "\n",
       "\n",
       "\n",
       "  <div class=\"bk-root\" id=\"319e4887-2153-4996-bc46-72c694295b94\" data-root-id=\"1002\"></div>\n",
       "</div>\n",
       "<script type=\"application/javascript\">(function(root) {\n",
       "  function embed_document(root) {\n",
       "    var docs_json = {\"b615883d-0348-44d5-8227-a45dd5a79f7d\":{\"defs\":[],\"roots\":{\"references\":[{\"attributes\":{\"label\":{\"value\":\"z\"},\"renderers\":[{\"id\":\"1094\"}]},\"id\":\"1110\",\"type\":\"LegendItem\"},{\"attributes\":{},\"id\":\"1084\",\"type\":\"UnionRenderers\"},{\"attributes\":{},\"id\":\"1039\",\"type\":\"AllLabels\"},{\"attributes\":{\"client_comm_id\":\"3f27382613ea41ed8d9914c4ec8f1d2b\",\"comm_id\":\"cd9f9cadd2824cc1af10ed09d6da76fd\",\"plot_id\":\"1002\"},\"id\":\"1281\",\"type\":\"panel.models.comm_manager.CommManager\"},{\"attributes\":{},\"id\":\"1044\",\"type\":\"BasicTickFormatter\"},{\"attributes\":{},\"id\":\"1014\",\"type\":\"LinearScale\"},{\"attributes\":{\"line_color\":\"#30a2da\",\"line_width\":2,\"x\":{\"field\":\"t\"},\"y\":{\"field\":\"value\"}},\"id\":\"1065\",\"type\":\"Line\"},{\"attributes\":{\"axis\":{\"id\":\"1018\"},\"grid_line_color\":null,\"ticker\":null},\"id\":\"1021\",\"type\":\"Grid\"},{\"attributes\":{},\"id\":\"1108\",\"type\":\"UnionRenderers\"},{\"attributes\":{\"children\":[{\"id\":\"1003\"},{\"id\":\"1009\"},{\"id\":\"1238\"}],\"margin\":[0,0,0,0],\"name\":\"Row01554\"},\"id\":\"1002\",\"type\":\"Row\"},{\"attributes\":{\"text_color\":\"black\",\"text_font_size\":\"12pt\"},\"id\":\"1010\",\"type\":\"Title\"},{\"attributes\":{\"data_source\":{\"id\":\"1066\"},\"glyph\":{\"id\":\"1069\"},\"hover_glyph\":null,\"muted_glyph\":{\"id\":\"1071\"},\"nonselection_glyph\":{\"id\":\"1070\"},\"selection_glyph\":{\"id\":\"1087\"},\"view\":{\"id\":\"1073\"}},\"id\":\"1072\",\"type\":\"GlyphRenderer\"},{\"attributes\":{},\"id\":\"1042\",\"type\":\"AllLabels\"},{\"attributes\":{\"callback\":null,\"renderers\":[{\"id\":\"1051\"},{\"id\":\"1072\"},{\"id\":\"1094\"}],\"tags\":[\"hv_created\"],\"tooltips\":[[\"Variable\",\"@{Variable}\"],[\"t\",\"@{t}\"],[\"value\",\"@{value}\"]]},\"id\":\"1006\",\"type\":\"HoverTool\"},{\"attributes\":{\"margin\":[5,5,5,5],\"name\":\"HSpacer01558\",\"sizing_mode\":\"stretch_width\"},\"id\":\"1003\",\"type\":\"Spacer\"},{\"attributes\":{\"line_color\":\"#30a2da\",\"line_width\":2,\"x\":{\"field\":\"t\"},\"y\":{\"field\":\"value\"}},\"id\":\"1048\",\"type\":\"Line\"},{\"attributes\":{},\"id\":\"1016\",\"type\":\"LinearScale\"},{\"attributes\":{\"bottom_units\":\"screen\",\"fill_alpha\":0.5,\"fill_color\":\"lightgrey\",\"left_units\":\"screen\",\"level\":\"overlay\",\"line_alpha\":1.0,\"line_color\":\"black\",\"line_dash\":[4,4],\"line_width\":2,\"right_units\":\"screen\",\"syncable\":false,\"top_units\":\"screen\"},\"id\":\"1031\",\"type\":\"BoxAnnotation\"},{\"attributes\":{\"line_alpha\":0.1,\"line_color\":\"#30a2da\",\"line_width\":2,\"x\":{\"field\":\"t\"},\"y\":{\"field\":\"value\"}},\"id\":\"1049\",\"type\":\"Line\"},{\"attributes\":{\"line_alpha\":0.1,\"line_color\":\"#fc4f30\",\"line_width\":2,\"x\":{\"field\":\"t\"},\"y\":{\"field\":\"value\"}},\"id\":\"1070\",\"type\":\"Line\"},{\"attributes\":{\"line_color\":\"#fc4f30\",\"line_width\":2,\"x\":{\"field\":\"t\"},\"y\":{\"field\":\"value\"}},\"id\":\"1087\",\"type\":\"Line\"},{\"attributes\":{},\"id\":\"1041\",\"type\":\"BasicTickFormatter\"},{\"attributes\":{\"axis_label\":\"t\",\"formatter\":{\"id\":\"1041\"},\"major_label_policy\":{\"id\":\"1039\"},\"ticker\":{\"id\":\"1019\"}},\"id\":\"1018\",\"type\":\"LinearAxis\"},{\"attributes\":{\"line_color\":\"#fc4f30\",\"line_width\":2,\"x\":{\"field\":\"t\"},\"y\":{\"field\":\"value\"}},\"id\":\"1069\",\"type\":\"Line\"},{\"attributes\":{\"tags\":[[[\"value\",\"value\",null]]]},\"id\":\"1005\",\"type\":\"Range1d\"},{\"attributes\":{\"line_color\":\"#e5ae38\",\"line_width\":2,\"x\":{\"field\":\"t\"},\"y\":{\"field\":\"value\"}},\"id\":\"1091\",\"type\":\"Line\"},{\"attributes\":{},\"id\":\"1067\",\"type\":\"Selection\"},{\"attributes\":{\"line_alpha\":0.1,\"line_color\":\"#e5ae38\",\"line_width\":2,\"x\":{\"field\":\"t\"},\"y\":{\"field\":\"value\"}},\"id\":\"1092\",\"type\":\"Line\"},{\"attributes\":{\"label\":{\"value\":\"x\"},\"renderers\":[{\"id\":\"1051\"}]},\"id\":\"1064\",\"type\":\"LegendItem\"},{\"attributes\":{\"line_alpha\":0.2,\"line_color\":\"#e5ae38\",\"line_width\":2,\"x\":{\"field\":\"t\"},\"y\":{\"field\":\"value\"}},\"id\":\"1093\",\"type\":\"Line\"},{\"attributes\":{\"data_source\":{\"id\":\"1088\"},\"glyph\":{\"id\":\"1091\"},\"hover_glyph\":null,\"muted_glyph\":{\"id\":\"1093\"},\"nonselection_glyph\":{\"id\":\"1092\"},\"selection_glyph\":{\"id\":\"1111\"},\"view\":{\"id\":\"1095\"}},\"id\":\"1094\",\"type\":\"GlyphRenderer\"},{\"attributes\":{},\"id\":\"1019\",\"type\":\"BasicTicker\"},{\"attributes\":{\"data\":{\"Variable\":[],\"t\":[],\"value\":[]},\"selected\":{\"id\":\"1067\"},\"selection_policy\":{\"id\":\"1084\"}},\"id\":\"1066\",\"type\":\"ColumnDataSource\"},{\"attributes\":{},\"id\":\"1023\",\"type\":\"BasicTicker\"},{\"attributes\":{\"line_alpha\":0.2,\"line_color\":\"#fc4f30\",\"line_width\":2,\"x\":{\"field\":\"t\"},\"y\":{\"field\":\"value\"}},\"id\":\"1071\",\"type\":\"Line\"},{\"attributes\":{\"data\":{\"Variable\":[],\"t\":[],\"value\":[]},\"selected\":{\"id\":\"1089\"},\"selection_policy\":{\"id\":\"1108\"}},\"id\":\"1088\",\"type\":\"ColumnDataSource\"},{\"attributes\":{\"below\":[{\"id\":\"1018\"}],\"center\":[{\"id\":\"1021\"},{\"id\":\"1025\"}],\"height\":300,\"left\":[{\"id\":\"1022\"}],\"margin\":[5,5,5,5],\"min_border_bottom\":10,\"min_border_left\":10,\"min_border_right\":10,\"min_border_top\":10,\"renderers\":[{\"id\":\"1051\"},{\"id\":\"1072\"},{\"id\":\"1094\"}],\"right\":[{\"id\":\"1063\"}],\"sizing_mode\":\"fixed\",\"title\":{\"id\":\"1010\"},\"toolbar\":{\"id\":\"1032\"},\"width\":700,\"x_range\":{\"id\":\"1004\"},\"x_scale\":{\"id\":\"1014\"},\"y_range\":{\"id\":\"1005\"},\"y_scale\":{\"id\":\"1016\"}},\"id\":\"1009\",\"subtype\":\"Figure\",\"type\":\"Plot\"},{\"attributes\":{\"data_source\":{\"id\":\"1045\"},\"glyph\":{\"id\":\"1048\"},\"hover_glyph\":null,\"muted_glyph\":{\"id\":\"1050\"},\"nonselection_glyph\":{\"id\":\"1049\"},\"selection_glyph\":{\"id\":\"1065\"},\"view\":{\"id\":\"1052\"}},\"id\":\"1051\",\"type\":\"GlyphRenderer\"},{\"attributes\":{\"source\":{\"id\":\"1066\"}},\"id\":\"1073\",\"type\":\"CDSView\"},{\"attributes\":{},\"id\":\"1030\",\"type\":\"ResetTool\"},{\"attributes\":{\"line_color\":\"#e5ae38\",\"line_width\":2,\"x\":{\"field\":\"t\"},\"y\":{\"field\":\"value\"}},\"id\":\"1111\",\"type\":\"Line\"},{\"attributes\":{},\"id\":\"1061\",\"type\":\"UnionRenderers\"},{\"attributes\":{\"click_policy\":\"mute\",\"items\":[{\"id\":\"1064\"},{\"id\":\"1086\"},{\"id\":\"1110\"}],\"location\":[0,0],\"title\":\"Variable\"},\"id\":\"1063\",\"type\":\"Legend\"},{\"attributes\":{\"label\":{\"value\":\"y\"},\"renderers\":[{\"id\":\"1072\"}]},\"id\":\"1086\",\"type\":\"LegendItem\"},{\"attributes\":{\"source\":{\"id\":\"1045\"}},\"id\":\"1052\",\"type\":\"CDSView\"},{\"attributes\":{},\"id\":\"1046\",\"type\":\"Selection\"},{\"attributes\":{},\"id\":\"1027\",\"type\":\"PanTool\"},{\"attributes\":{\"line_alpha\":0.2,\"line_color\":\"#30a2da\",\"line_width\":2,\"x\":{\"field\":\"t\"},\"y\":{\"field\":\"value\"}},\"id\":\"1050\",\"type\":\"Line\"},{\"attributes\":{\"tags\":[[[\"t\",\"t\",null]]]},\"id\":\"1004\",\"type\":\"Range1d\"},{\"attributes\":{\"margin\":[5,5,5,5],\"name\":\"HSpacer01559\",\"sizing_mode\":\"stretch_width\"},\"id\":\"1238\",\"type\":\"Spacer\"},{\"attributes\":{\"data\":{\"Variable\":[],\"t\":[],\"value\":[]},\"selected\":{\"id\":\"1046\"},\"selection_policy\":{\"id\":\"1061\"}},\"id\":\"1045\",\"type\":\"ColumnDataSource\"},{\"attributes\":{},\"id\":\"1089\",\"type\":\"Selection\"},{\"attributes\":{\"axis_label\":\"\",\"formatter\":{\"id\":\"1044\"},\"major_label_policy\":{\"id\":\"1042\"},\"ticker\":{\"id\":\"1023\"}},\"id\":\"1022\",\"type\":\"LinearAxis\"},{\"attributes\":{},\"id\":\"1028\",\"type\":\"WheelZoomTool\"},{\"attributes\":{\"axis\":{\"id\":\"1022\"},\"dimension\":1,\"grid_line_color\":null,\"ticker\":null},\"id\":\"1025\",\"type\":\"Grid\"},{\"attributes\":{\"source\":{\"id\":\"1088\"}},\"id\":\"1095\",\"type\":\"CDSView\"},{\"attributes\":{},\"id\":\"1026\",\"type\":\"SaveTool\"},{\"attributes\":{\"active_multi\":null,\"tools\":[{\"id\":\"1006\"},{\"id\":\"1026\"},{\"id\":\"1027\"},{\"id\":\"1028\"},{\"id\":\"1029\"},{\"id\":\"1030\"}]},\"id\":\"1032\",\"type\":\"Toolbar\"},{\"attributes\":{\"overlay\":{\"id\":\"1031\"}},\"id\":\"1029\",\"type\":\"BoxZoomTool\"}],\"root_ids\":[\"1002\",\"1281\"]},\"title\":\"Bokeh Application\",\"version\":\"2.3.2\"}};\n",
       "    var render_items = [{\"docid\":\"b615883d-0348-44d5-8227-a45dd5a79f7d\",\"root_ids\":[\"1002\"],\"roots\":{\"1002\":\"319e4887-2153-4996-bc46-72c694295b94\"}}];\n",
       "    root.Bokeh.embed.embed_items_notebook(docs_json, render_items);\n",
       "  }\n",
       "  if (root.Bokeh !== undefined && root.Bokeh.Panel !== undefined) {\n",
       "    embed_document(root);\n",
       "  } else {\n",
       "    var attempts = 0;\n",
       "    var timer = setInterval(function(root) {\n",
       "      if (root.Bokeh !== undefined && root.Bokeh.Panel !== undefined) {\n",
       "        clearInterval(timer);\n",
       "        embed_document(root);\n",
       "      } else if (document.readyState == \"complete\") {\n",
       "        attempts++;\n",
       "        if (attempts > 100) {\n",
       "          clearInterval(timer);\n",
       "          console.log(\"Bokeh: ERROR: Unable to run BokehJS code because BokehJS library is missing\");\n",
       "        }\n",
       "      }\n",
       "    }, 10, root)\n",
       "  }\n",
       "})(window);</script>"
      ],
      "text/plain": [
       ":DynamicMap   []\n",
       "   :NdOverlay   [Variable]\n",
       "      :Curve   [t]   (value)"
      ]
     },
     "execution_count": 4,
     "metadata": {
      "application/vnd.holoviews_exec.v0+json": {
       "id": "1002"
      }
     },
     "output_type": "execute_result"
    }
   ],
   "source": [
    "#This way will plot as a smooth line\n",
    "df.hvplot(x='t', backlog=50, kind='line')\n",
    "\n",
    "# This way will plot each sample as a dot and then connect them with a line.  It's a bit slower?\n",
    "#df.hvplot(x='t', backlog=50, kind='scatter') * df.hvplot(x='t', backlog=50, kind='line')\n",
    "# re-run this cell to clear the graph"
   ]
  },
  {
   "cell_type": "code",
   "execution_count": 5,
   "id": "39b9da5a",
   "metadata": {},
   "outputs": [],
   "source": [
    "#start_time = dt.timestamp(dt.now())"
   ]
  },
  {
   "cell_type": "markdown",
   "id": "c6269166",
   "metadata": {},
   "source": [
    "# Experiment 1: Orientation (3 axes)"
   ]
  },
  {
   "cell_type": "code",
   "execution_count": null,
   "id": "50b4d0a3",
   "metadata": {},
   "outputs": [],
   "source": [
    "#for i in range(30): # Option 2: read 30 samples and then stop\n",
    "while(True): #Option 1: stream forever.  must use \"Kernel\" --> \"Interrupt\" to stop\n",
    "    try:\n",
    "        line = port.readline().decode(\"utf-8\")\n",
    "        t, x, y, z = [float(axis) for axis in line.strip().split(\"\\t\")]\n",
    "        #t= dt.timestamp(dt.now()) - start_time\n",
    "        # print(\"t={0} x={1} y={2} z={3}\".format(t,x,y,z))\n",
    "        df.emit(pd.DataFrame([[t,x,y,z]], columns=cols))\n",
    "        #TODO: speed things up by reading out 1s of samples (5-10?) and emitting them all at once\n",
    "    except Exception as err:\n",
    "        #skip over the header lines\n",
    "        print(\"Could not parse line: \" + line)\n",
    "        print(err)"
   ]
  },
  {
   "cell_type": "code",
   "execution_count": null,
   "id": "e5366401",
   "metadata": {},
   "outputs": [],
   "source": [
    "# do some buffering\n",
    "buffer_size = 4 # update every 0.5 seconds \n",
    "while(True): #stream forever.  must use \"Kernel\" --> \"Interrupt\" to stop\n",
    "    try:\n",
    "        df_buffer = pd.DataFrame(columns=cols)\n",
    "        for i in range(buffer_size):\n",
    "            line = port.readline().decode(\"utf-8\")\n",
    "            t, x, y, z = [float(axis) for axis in line.strip().split(\"\\t\")]\n",
    "            t = t/1000. #convert from milliseconds to seconds\n",
    "            # print(\"t={0} x={1} y={2} z={3}\".format(t,x,y,z))\n",
    "            df_buffer = df_buffer.append(pd.DataFrame([[t,x,y,z]], columns=cols))\n",
    "        #print(df_buffer)\n",
    "        df.emit(df_buffer)\n",
    "        #TODO: speed things up by reading out 1s of samples (5-10?) and emitting them all at once\n",
    "    except Exception as err:\n",
    "        #skip over the header lines\n",
    "        print(\"Could not parse line: \" + line)\n",
    "        print(err)"
   ]
  },
  {
   "cell_type": "markdown",
   "id": "61e5c10d",
   "metadata": {},
   "source": [
    "# Experiment 2: Acceleration, Velocity, and position (single axis)"
   ]
  },
  {
   "cell_type": "code",
   "execution_count": null,
   "id": "27de0d24",
   "metadata": {},
   "outputs": [],
   "source": [
    "# https://hvplot.holoviz.org/user_guide/Streaming.html\n",
    "cols = ['t','x_acc','x_vel','x_pos']\n",
    "df_example = pd.DataFrame(columns=cols)\n",
    "df = DataFrame(example=df_example)"
   ]
  },
  {
   "cell_type": "code",
   "execution_count": null,
   "id": "f0a8185e",
   "metadata": {},
   "outputs": [],
   "source": [
    "# do some buffering\n",
    "buffer_size = 4 # update every 0.5 seconds \n",
    "while(True): #stream forever.  must use \"Kernel\" --> \"Interrupt\" to stop\n",
    "    try:\n",
    "        df_buffer = pd.DataFrame(columns=cols)\n",
    "        for i in range(buffer_size):\n",
    "            line = port.readline().decode(\"utf-8\")\n",
    "            t, x, y, z = [float(axis) for axis in line.strip().split(\"\\t\")]\n",
    "            t = t/1000. #convert from milliseconds to seconds\n",
    "            # print(\"t={0} x={1} y={2} z={3}\".format(t,x,y,z))\n",
    "            df_buffer = df_buffer.append(pd.DataFrame([[t,x,y,z]], columns=cols))\n",
    "        #print(df_buffer)\n",
    "        df.emit(df_buffer)\n",
    "        #TODO: speed things up by reading out 1s of samples (5-10?) and emitting them all at once\n",
    "    except Exception as err:\n",
    "        #skip over the header lines\n",
    "        print(\"Could not parse line: \" + line)\n",
    "        print(err)"
   ]
  },
  {
   "cell_type": "code",
   "execution_count": 45,
   "id": "0324f1c8",
   "metadata": {},
   "outputs": [],
   "source": [
    "# First do an offline demo to explain how acceleration, velocity, and position are related\n",
    "x_accel = [0, 0, 0.25, 0.5, 0.5, 0.25, 0, -0.25, -0.5, -0.5,-0.25, 0]\n",
    "t = np.arange(len(x_accel))\n",
    "x_vel = []\n",
    "x_pos = []\n",
    "# Initial conditions - optional to discuss.  The accel can only measure change in velocity, \n",
    "# but we need need to know the orignal velocity and position were to start \n",
    "x_vel.append(0) # x_vel[0]\n",
    "x_pos.append(0) # x_pos[0]\n",
    "x_pos.append(0) # x_pos[1]\n",
    "\n",
    "# Velocity is the integral of acceleration (or acceleration is the derrivative (change in) of velocity)\n",
    "# We \"add up\" the accelerometer value over time\n",
    "for i in range(1, len(x_accel)):\n",
    "    x_vel.append(x_accel[i] + x_vel[i-1])\n",
    "    \n",
    "# Position is the integral of velocity (and double integral of acceleration).  Velocity is the derrivative of position\n",
    "for j in range(2, len(x_accel)):\n",
    "    x_pos.append(x_vel[j]+x_pos[j-1])\n",
    "    "
   ]
  },
  {
   "cell_type": "code",
   "execution_count": 44,
   "id": "a868b376",
   "metadata": {},
   "outputs": [
    {
     "data": {
      "text/plain": [
       "Text(0, 0.5, 'position')"
      ]
     },
     "execution_count": 44,
     "metadata": {},
     "output_type": "execute_result"
    },
    {
     "data": {
      "image/png": "[encoded data removed]",
      "text/plain": [
       "<Figure size 1728x576 with 3 Axes>"
      ]
     },
     "metadata": {
      "needs_background": "light"
     },
     "output_type": "display_data"
    }
   ],
   "source": [
    "# Plot accel, velocity, and position to show how an accel can be used for \"dead-reckoning\" tracking\n",
    "plt.figure(figsize=[24,8])\n",
    "plt.subplot(3,1,1)\n",
    "plt.plot(t, x_accel,'r.-',label='acceleration')\n",
    "xlim =plt.xlim() # save the xlimits\n",
    "plt.plot([t[0]-1,t[-1]+1], [x_accel[0], x_accel[-1]], 'k-', alpha=0.2) # plot zero-crossing line\n",
    "plt.xlim(xlim) # restore xlim (lims auto expanded by zero-crossing line)\n",
    "plt.ylabel(\"acceleration\")\n",
    "plt.title(\"Relationship between acceleration, velocity, and position\")\n",
    "plt.subplot(3,1,2)\n",
    "plt.plot(t, x_vel,'g.-',label='velocity')\n",
    "plt.ylabel(\"velocity\")\n",
    "plt.subplot(3,1,3)\n",
    "plt.plot(t, x_pos,'b.-',label='position')\n",
    "plt.xlabel('time')\n",
    "plt.ylabel(\"position\")\n"
   ]
  },
  {
   "cell_type": "code",
   "execution_count": null,
   "id": "39df0ef5",
   "metadata": {},
   "outputs": [],
   "source": [
    "# Now let's use these equations with our accelerometer sensor to estimate the velocity and position of an object."
   ]
  }
 ],
 "metadata": {
  "kernelspec": {
   "display_name": "Python 3",
   "language": "python",
   "name": "python3"
  },
  "language_info": {
   "codemirror_mode": {
    "name": "ipython",
    "version": 3
   },
   "file_extension": ".py",
   "mimetype": "text/x-python",
   "name": "python",
   "nbconvert_exporter": "python",
   "pygments_lexer": "ipython3",
   "version": "3.8.2"
  }
 },
 "nbformat": 4,
 "nbformat_minor": 5
}
